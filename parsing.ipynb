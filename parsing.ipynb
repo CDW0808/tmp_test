{
 "cells": [
  {
   "cell_type": "code",
   "execution_count": 13,
   "metadata": {},
   "outputs": [],
   "source": [
    "import cv2\n",
    "import numpy as np\n",
    "import os"
   ]
  },
  {
   "cell_type": "code",
   "execution_count": 14,
   "metadata": {
    "pycharm": {
     "name": "#%%\n"
    }
   },
   "outputs": [],
   "source": [
    "# 사람 파싱 완료된 파일 저장할 디렉토리\n",
    "ABS_PATH = \"add_person\" # 한글 디렉토리는 opencv가 인식하지 못하기 때문에 디렉토리 이름 변경\n",
    "\n",
    "# 파싱한 사람 이미지 저장할 디렉토리\n",
    "CH02 = \"ch01\"\n",
    "CH03 = \"ch04\"\n",
    "\n",
    "# RAW 디렉토리\n",
    "CH2 = \"ch1\"\n",
    "CH3 = \"ch4\"\n",
    "\n",
    "# 채널별 총 수량\n",
    "ch2_end_num = 250\n",
    "ch3_end_num = 750"
   ]
  },
  {
   "cell_type": "code",
   "execution_count": null,
   "outputs": [],
   "source": [
    "# 사용법\n",
    "# A : 이전 이미지\n",
    "# S : 이미지 저장\n",
    "# D : 다음 이미지\n",
    "# Q : 프로그램 종료\n",
    "# 이미지 저장했을 때 이미 있으면 중복 저장 안됨\n",
    "# RESIDUAL : 남은 파싱 이미지 개수\n",
    "# 모든 이미지 다 보면 인덱스 에러로 끝남\n",
    "\n",
    "ch2_img_list = os.listdir(CH2)\n",
    "num_comp_ch2 = len(os.listdir( os.path.join(ABS_PATH,CH02) ))\n",
    "now_idx = 0\n",
    "while True:\n",
    "    if (ch2_end_num - num_comp_ch2) == 0:\n",
    "        break\n",
    "    num_comp_ch2 = len(os.listdir( os.path.join(ABS_PATH,CH02) ))\n",
    "    img  = cv2.imread( os.path.join(CH2, ch2_img_list[now_idx] ) )\n",
    "    deep_img = img.copy()\n",
    "    text=f\"RESIDUAL : {ch2_end_num - num_comp_ch2 }\"\n",
    "    org=(50,100)\n",
    "    font=cv2.FONT_HERSHEY_SIMPLEX\n",
    "    cv2.namedWindow(ch2_img_list[now_idx])\n",
    "    cv2.putText(img,text,org,font,1,(255,255,255),2)\n",
    "    cv2.moveWindow(ch2_img_list[now_idx],100,100)\n",
    "    cv2.imshow(ch2_img_list[now_idx], img)\n",
    "    key_asc = cv2.waitKey(0)\n",
    "    if key_asc == 97: # keyboard a 이전 이미지로 넘어가기\n",
    "        now_idx-= 1\n",
    "    elif key_asc == 115: # keyboard s 해당 이미지 고르기\n",
    "        img_path = os.path.join(ABS_PATH,CH02,ch2_img_list[now_idx])\n",
    "        if os.path.exists(img_path):\n",
    "            print(\"Already Exist\")\n",
    "        else:\n",
    "            print(f\"SAVE : {ch2_img_list[now_idx]}\")\n",
    "            cv2.imwrite(img_path,deep_img)\n",
    "    elif key_asc == 100: # keyboard d 다음 이미지로 넘어가기\n",
    "        now_idx += 1\n",
    "    elif key_asc == 113: # keyboed q 끝내기\n",
    "        print(\"QUIT\")\n",
    "        cv2.destroyAllWindows()\n",
    "        break\n",
    "    cv2.destroyAllWindows()"
   ],
   "metadata": {
    "collapsed": false,
    "pycharm": {
     "name": "#%%\n"
    }
   }
  },
  {
   "cell_type": "code",
   "execution_count": null,
   "outputs": [],
   "source": [
    "ch3_img_list = os.listdir(CH3)\n",
    "num_comp_ch3 = len(os.listdir( os.path.join(ABS_PATH,CH03) ))\n",
    "now_idx = 0\n",
    "while True:\n",
    "    if (ch3_end_num - num_comp_ch3) == 0:\n",
    "        break\n",
    "    num_comp_ch3 = len(os.listdir( os.path.join(ABS_PATH,CH03) ))\n",
    "    img  = cv2.imread( os.path.join(CH3, ch3_img_list[now_idx] ) )\n",
    "    deep_img = img.copy()\n",
    "    text=f\"RESIDUAL : {ch3_end_num - num_comp_ch3 }\"\n",
    "    org=(50,100)\n",
    "    font=cv2.FONT_HERSHEY_SIMPLEX\n",
    "    cv2.namedWindow(ch3_img_list[now_idx])\n",
    "    cv2.putText(img,text,org,font,1,(255,255,255),2)\n",
    "    cv2.moveWindow(ch3_img_list[now_idx],100,100)\n",
    "    cv2.imshow(ch3_img_list[now_idx], img)\n",
    "    key_asc = cv2.waitKey(0)\n",
    "    if key_asc == 97:\n",
    "        now_idx-= 1\n",
    "    elif key_asc == 115:\n",
    "        img_path = os.path.join(ABS_PATH,CH03,ch3_img_list[now_idx])\n",
    "        if os.path.exists(img_path):\n",
    "            print(\"Already Exist\")\n",
    "        else:\n",
    "            print(f\"SAVE : {ch3_img_list[now_idx]}\")\n",
    "            cv2.imwrite(img_path,deep_img)\n",
    "    elif key_asc == 100:\n",
    "        now_idx += 1\n",
    "    elif key_asc == 113:\n",
    "        print(\"QUIT\")\n",
    "        cv2.destroyAllWindows()\n",
    "        break\n",
    "    cv2.destroyAllWindows()"
   ],
   "metadata": {
    "collapsed": false,
    "pycharm": {
     "name": "#%%\n"
    }
   }
  },
  {
   "cell_type": "code",
   "execution_count": null,
   "outputs": [],
   "source": [],
   "metadata": {
    "collapsed": false,
    "pycharm": {
     "name": "#%%\n"
    }
   }
  },
  {
   "cell_type": "code",
   "execution_count": null,
   "outputs": [],
   "source": [],
   "metadata": {
    "collapsed": false,
    "pycharm": {
     "name": "#%%\n"
    }
   }
  }
 ],
 "metadata": {
  "kernelspec": {
   "display_name": "Python 3.8.10 64-bit (microsoft store)",
   "language": "python",
   "name": "python3"
  },
  "language_info": {
   "codemirror_mode": {
    "name": "ipython",
    "version": 3
   },
   "file_extension": ".py",
   "mimetype": "text/x-python",
   "name": "python",
   "nbconvert_exporter": "python",
   "pygments_lexer": "ipython3",
   "version": "3.8.10"
  },
  "orig_nbformat": 4,
  "vscode": {
   "interpreter": {
    "hash": "91a0a8d505b6f622c719f10b8d389fa06310bc6a6b6be456fa59df9442ad29fa"
   }
  }
 },
 "nbformat": 4,
 "nbformat_minor": 2
}